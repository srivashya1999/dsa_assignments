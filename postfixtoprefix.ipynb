{
 "cells": [
  {
   "cell_type": "code",
   "execution_count": 22,
   "metadata": {},
   "outputs": [
    {
     "name": "stdout",
     "output_type": "stream",
     "text": [
      "Prefix :  BA+DC-\n"
     ]
    }
   ],
   "source": [
    "def postToPre(post_exp):\n",
    "    stack = []\n",
    "    operators = set(['+', '-', '*', '/', '^'])\n",
    "    for i in post_exp:\n",
    "        if i in operators:\n",
    "            a = stack.pop()\n",
    "            b = stack.pop()\n",
    "            temp = a+b+i\n",
    "            stack.append(temp)\n",
    "        else:\n",
    "            stack.append(i)\n",
    "          \n",
    "    value = ''\n",
    "    \n",
    "    for i in stack:\n",
    "        value += i\n",
    "\n",
    "    return value\n",
    "\n",
    "if __name__ == \"__main__\":\n",
    " \n",
    "    post_exp = \"AB+CD-\"\n",
    "     \n",
    "    # Function call\n",
    "    print(\"Prefix : \",postToPre(post_exp))"
   ]
  }
 ],
 "metadata": {
  "kernelspec": {
   "display_name": "Python 3.10.6 64-bit",
   "language": "python",
   "name": "python3"
  },
  "language_info": {
   "codemirror_mode": {
    "name": "ipython",
    "version": 3
   },
   "file_extension": ".py",
   "mimetype": "text/x-python",
   "name": "python",
   "nbconvert_exporter": "python",
   "pygments_lexer": "ipython3",
   "version": "3.10.6"
  },
  "orig_nbformat": 4,
  "vscode": {
   "interpreter": {
    "hash": "369f2c481f4da34e4445cda3fffd2e751bd1c4d706f27375911949ba6bb62e1c"
   }
  }
 },
 "nbformat": 4,
 "nbformat_minor": 2
}
