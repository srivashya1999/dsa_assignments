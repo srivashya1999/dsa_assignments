{
 "cells": [
  {
   "cell_type": "code",
   "execution_count": 7,
   "metadata": {},
   "outputs": [
    {
     "name": "stdout",
     "output_type": "stream",
     "text": [
      "original [725, 425, 178, 565, 476, 150]\n",
      "0 5 True\n",
      "reversed [150, 476, 565, 178, 425, 725]\n"
     ]
    }
   ],
   "source": [
    "array_be = []\n",
    "array_a = []\n",
    "\n",
    "import random\n",
    "\n",
    "for i in range(1000):\n",
    "    array_a.append(i)\n",
    "\n",
    "for i in range(6):\n",
    "   value =  random.choice(array_a)\n",
    "   array_be.append(value)\n",
    "\n",
    "print(\"original\",array_be)\n",
    "\n",
    "def reverse_array(array_be, start, end):\n",
    "    while start < end:\n",
    "        array_be[start], array_be[end] = array_be[end], array_be[start]\n",
    "        start+=1\n",
    "        end -= 1\n",
    "\n",
    "reverse_array(array_be, 0, 5)\n",
    "\n",
    "print(\"reversed\",array_be)"
   ]
  }
 ],
 "metadata": {
  "kernelspec": {
   "display_name": "Python 3.10.6 64-bit",
   "language": "python",
   "name": "python3"
  },
  "language_info": {
   "codemirror_mode": {
    "name": "ipython",
    "version": 3
   },
   "file_extension": ".py",
   "mimetype": "text/x-python",
   "name": "python",
   "nbconvert_exporter": "python",
   "pygments_lexer": "ipython3",
   "version": "3.10.6"
  },
  "orig_nbformat": 4,
  "vscode": {
   "interpreter": {
    "hash": "369f2c481f4da34e4445cda3fffd2e751bd1c4d706f27375911949ba6bb62e1c"
   }
  }
 },
 "nbformat": 4,
 "nbformat_minor": 2
}
