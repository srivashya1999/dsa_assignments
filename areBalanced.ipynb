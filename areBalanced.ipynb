{
 "cells": [
  {
   "cell_type": "code",
   "execution_count": 4,
   "metadata": {},
   "outputs": [
    {
     "name": "stdout",
     "output_type": "stream",
     "text": [
      "Not Balanced\n"
     ]
    }
   ],
   "source": [
    "\n",
    "\n",
    "def areBracketsBalanced(expr):\n",
    "\tstack = []\n",
    "\n",
    "\t\n",
    "\tfor char in expr:\n",
    "\t\tif char in [\"(\", \"{\", \"[\"]:\n",
    "\n",
    "\t\n",
    "\t\t\tstack.append(char)\n",
    "\t\telse:\n",
    "\n",
    "\t\t\n",
    "            \n",
    "\t\t\tif not stack:\n",
    "\t\t\t\treturn False\n",
    "\t\t\tcurrent_char = stack.pop()\n",
    "\t\t\tif current_char == '(':\n",
    "\t\t\t\tif char != \")\":\n",
    "\t\t\t\t\treturn False\n",
    "\t\t\tif current_char == '{':\n",
    "\t\t\t\tif char != \"}\":\n",
    "\t\t\t\t\treturn False\n",
    "\t\t\tif current_char == '[':\n",
    "\t\t\t\tif char != \"]\":\n",
    "\t\t\t\t\treturn False\n",
    "\n",
    "\t# Check Empty Stack\n",
    "\tif stack:\n",
    "\t\treturn False\n",
    "\treturn True\n",
    "\n",
    "\n",
    "# Driver Code\n",
    "if __name__ == \"__main__\":\n",
    "\texpr = \"{()}[]}{\"\n",
    "\n",
    "\t# Function call\n",
    "\tif areBracketsBalanced(expr):\n",
    "\t\tprint(\"Balanced\")\n",
    "\telse:\n",
    "\t\tprint(\"Not Balanced\")\n",
    "\n",
    "\n"
   ]
  }
 ],
 "metadata": {
  "kernelspec": {
   "display_name": "Python 3.10.6 64-bit",
   "language": "python",
   "name": "python3"
  },
  "language_info": {
   "codemirror_mode": {
    "name": "ipython",
    "version": 3
   },
   "file_extension": ".py",
   "mimetype": "text/x-python",
   "name": "python",
   "nbconvert_exporter": "python",
   "pygments_lexer": "ipython3",
   "version": "3.10.6"
  },
  "orig_nbformat": 4,
  "vscode": {
   "interpreter": {
    "hash": "369f2c481f4da34e4445cda3fffd2e751bd1c4d706f27375911949ba6bb62e1c"
   }
  }
 },
 "nbformat": 4,
 "nbformat_minor": 2
}
