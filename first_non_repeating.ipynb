{
 "cells": [
  {
   "cell_type": "code",
   "execution_count": 7,
   "metadata": {},
   "outputs": [
    {
     "name": "stdout",
     "output_type": "stream",
     "text": [
      "First Non-Repeating Character =  h\n"
     ]
    }
   ],
   "source": [
    "def RepeatingFunc(myStr):\n",
    "\tchar_order = []\n",
    "\tcounts = {}\n",
    "\n",
    "\tfor c in myStr:\n",
    "\t\tif c in counts:\n",
    "\t\t\tcounts[c] += 1\n",
    "\t\telse:\n",
    "\t\t\tcounts[c] = 1\n",
    "\t\t\tchar_order.append(c)\n",
    "\tfor c in char_order:\n",
    "\t\tif counts[c] == 1:\n",
    "\t\t\treturn c\n",
    "\treturn None\n",
    "\n",
    "print(\"First Non-Repeating Character = \",RepeatingFunc('thisisit'))"
   ]
  }
 ],
 "metadata": {
  "kernelspec": {
   "display_name": "Python 3.10.6 64-bit",
   "language": "python",
   "name": "python3"
  },
  "language_info": {
   "codemirror_mode": {
    "name": "ipython",
    "version": 3
   },
   "file_extension": ".py",
   "mimetype": "text/x-python",
   "name": "python",
   "nbconvert_exporter": "python",
   "pygments_lexer": "ipython3",
   "version": "3.10.6"
  },
  "orig_nbformat": 4,
  "vscode": {
   "interpreter": {
    "hash": "369f2c481f4da34e4445cda3fffd2e751bd1c4d706f27375911949ba6bb62e1c"
   }
  }
 },
 "nbformat": 4,
 "nbformat_minor": 2
}
