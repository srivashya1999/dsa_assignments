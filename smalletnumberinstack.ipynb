{
 "cells": [
  {
   "cell_type": "code",
   "execution_count": 10,
   "metadata": {},
   "outputs": [
    {
     "ename": "IndentationError",
     "evalue": "unindent does not match any outer indentation level (<tokenize>, line 64)",
     "output_type": "error",
     "traceback": [
      "\u001b[1;36m  File \u001b[1;32m<tokenize>:64\u001b[1;36m\u001b[0m\n\u001b[1;33m    print(s[-1])\u001b[0m\n\u001b[1;37m    ^\u001b[0m\n\u001b[1;31mIndentationError\u001b[0m\u001b[1;31m:\u001b[0m unindent does not match any outer indentation level\n"
     ]
    }
   ],
   "source": [
    "# Python program to sort a stack using recursion\n",
    "\n",
    "# Recursive method to insert element in sorted way\n",
    "\n",
    "\n",
    "def sortedInsert(s, element):\n",
    "\n",
    "\t# Base case: Either stack is empty or newly inserted\n",
    "\t# item is greater than top (more than all existing)\n",
    "\tif len(s) == 0 or element > s[-1]:\n",
    "\t\ts.append(element)\n",
    "\t\treturn\n",
    "\telse:\n",
    "\n",
    "\t\t# Remove the top item and recur\n",
    "\t\ttemp = s.pop()\n",
    "\t\tsortedInsert(s, element)\n",
    "\n",
    "\t\t# Put back the top item removed earlier\n",
    "\t\ts.append(temp)\n",
    "\n",
    "# Method to sort stack\n",
    "\n",
    "\n",
    "def sortStack(s):\n",
    "\n",
    "\t# If stack is not empty\n",
    "\tif len(s) != 0:\n",
    "\n",
    "\t\t# Remove the top item\n",
    "\t\ttemp = s.pop()\n",
    "\n",
    "\t\t# Sort remaining stack\n",
    "\t\tsortStack(s)\n",
    "\n",
    "\t\t# Push the top item back in sorted stack\n",
    "\t\tsortedInsert(s, temp)\n",
    "\n",
    "# Printing contents of stack\n",
    "\n",
    "\n",
    "def printStack(s):\n",
    "\tfor i in s[::-1]:\n",
    "\t\tprint(i, end=\" \")\n",
    "\tprint()\n",
    "\n",
    "\n",
    "# Driver Code\n",
    "if __name__ == '__main__':\n",
    "\ts = []\n",
    "\ts.append(30)\n",
    "\ts.append(-5)\n",
    "\ts.append(18)\n",
    "\ts.append(14)\n",
    "\ts.append(-3)\n",
    "\n",
    "\tprint(\"Stack elements before sorting: \")\n",
    "\tprintStack(s)\n",
    "\n",
    "\tsortStack(s)\n",
    "\n",
    "\tprint(\"\\nStack elements after sorting: \")\n",
    "\tprintStack(s)\n",
    "    print(s[-1])\n",
    "    \n",
    "\n",
    "# This code is contributed by Muskan Kalra.\n"
   ]
  }
 ],
 "metadata": {
  "kernelspec": {
   "display_name": "Python 3.10.6 64-bit",
   "language": "python",
   "name": "python3"
  },
  "language_info": {
   "codemirror_mode": {
    "name": "ipython",
    "version": 3
   },
   "file_extension": ".py",
   "mimetype": "text/x-python",
   "name": "python",
   "nbconvert_exporter": "python",
   "pygments_lexer": "ipython3",
   "version": "3.10.6"
  },
  "orig_nbformat": 4,
  "vscode": {
   "interpreter": {
    "hash": "369f2c481f4da34e4445cda3fffd2e751bd1c4d706f27375911949ba6bb62e1c"
   }
  }
 },
 "nbformat": 4,
 "nbformat_minor": 2
}
