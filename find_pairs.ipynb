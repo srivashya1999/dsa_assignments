{
 "cells": [
  {
   "cell_type": "code",
   "execution_count": 20,
   "metadata": {},
   "outputs": [
    {
     "name": "stdout",
     "output_type": "stream",
     "text": [
      "8 7\n",
      "pair not found\n",
      "8 2\n",
      "Pair found (8, 2)\n"
     ]
    }
   ],
   "source": [
    "# method to find a pair in a list with the given sum\n",
    "\n",
    "def findPair(nums, target):\n",
    "  \n",
    "    for i in range(len(nums)-1):\n",
    "        for j in range(i+1,len(nums)):\n",
    "           print(nums[i], nums[j])\n",
    "           if nums[i] + nums[j] == target:\n",
    "            print('Pair found', (nums[i], nums[j]))\n",
    "          \n",
    "            return\n",
    "           else:\n",
    "                print('pair not found')\n",
    "    \n",
    "\n",
    "if __name__ == '__main__':\n",
    "    nums = [8, 7, 2, 5, 3, 1]\n",
    "    target = 10\n",
    "\n",
    "    findPair(nums, target)\n",
    "\n",
    "\n",
    "\n"
   ]
  }
 ],
 "metadata": {
  "kernelspec": {
   "display_name": "Python 3.10.6 64-bit",
   "language": "python",
   "name": "python3"
  },
  "language_info": {
   "codemirror_mode": {
    "name": "ipython",
    "version": 3
   },
   "file_extension": ".py",
   "mimetype": "text/x-python",
   "name": "python",
   "nbconvert_exporter": "python",
   "pygments_lexer": "ipython3",
   "version": "3.10.6"
  },
  "orig_nbformat": 4,
  "vscode": {
   "interpreter": {
    "hash": "369f2c481f4da34e4445cda3fffd2e751bd1c4d706f27375911949ba6bb62e1c"
   }
  }
 },
 "nbformat": 4,
 "nbformat_minor": 2
}
